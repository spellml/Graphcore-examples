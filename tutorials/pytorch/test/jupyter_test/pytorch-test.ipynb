{
 "cells": [
  {
   "cell_type": "code",
   "execution_count": 1,
   "id": "e58518e1",
   "metadata": {},
   "outputs": [],
   "source": [
    "#!/usr/bin/env python3\n",
    "# Copyright (c) 2020 Graphcore Ltd. All rights reserved.\n",
    "import argparse\n",
    "from tqdm import tqdm\n",
    "import torch\n",
    "import torch.nn as nn\n",
    "import torchvision\n",
    "import poptorch\n",
    "import torch.optim as optim\n",
    "\n",
    "# The following is a workaround for pytorch issue #1938\n",
    "from six.moves import urllib\n",
    "opener = urllib.request.build_opener()\n",
    "opener.addheaders = [(\"User-agent\", \"Mozilla/5.0\")]\n",
    "urllib.request.install_opener(opener)\n",
    "\n",
    "\n",
    "def get_mnist_data():\n",
    "    training_data = torch.utils.data.DataLoader(\n",
    "                    torchvision.datasets.MNIST('~/.torch/datasets', train=True, download=True,\n",
    "                                               transform=torchvision.transforms.Compose([\n",
    "                                                torchvision.transforms.ToTensor(),\n",
    "                                                torchvision.transforms.Normalize((0.1307, ), (0.3081, ))])),\n",
    "                    batch_size=8 * 50, shuffle=True, drop_last=True)\n",
    "\n",
    "    validation_data = torch.utils.data.DataLoader(\n",
    "                      torchvision.datasets.MNIST('~/.torch/datasets', train=False, download=True,\n",
    "                                                 transform=torchvision.transforms.Compose([\n",
    "                                                    torchvision.transforms.ToTensor(),\n",
    "                                                    torchvision.transforms.Normalize((0.1307, ), (0.3081, ))])),\n",
    "                      batch_size=80, shuffle=True, drop_last=True)\n",
    "    return training_data, validation_data\n",
    "\n",
    "\n",
    "class Block(nn.Module):\n",
    "    def __init__(self, in_channels, num_filters, kernel_size, pool_size):\n",
    "        super(Block, self).__init__()\n",
    "        self.conv = nn.Conv2d(in_channels,\n",
    "                              num_filters,\n",
    "                              kernel_size=kernel_size)\n",
    "        self.pool = nn.MaxPool2d(kernel_size=pool_size)\n",
    "        self.relu = nn.ReLU()\n",
    "\n",
    "    def forward(self, x):\n",
    "        x = self.conv(x)\n",
    "        x = self.pool(x)\n",
    "        x = self.relu(x)\n",
    "        return x\n",
    "\n",
    "\n",
    "class Network(nn.Module):\n",
    "    def __init__(self):\n",
    "        super(Network, self).__init__()\n",
    "        self.layer1 = Block(1, 32, 3, 2)\n",
    "        self.layer2 = Block(32, 64, 3, 2)\n",
    "        self.layer3 = nn.Linear(1600, 128)\n",
    "        self.layer3_act = nn.ReLU()\n",
    "        self.layer3_dropout = torch.nn.Dropout(0.5)\n",
    "        self.layer4 = nn.Linear(128, 10)\n",
    "        self.softmax = nn.Softmax(1)\n",
    "\n",
    "    def forward(self, x):\n",
    "        x = self.layer1(x)\n",
    "        x = self.layer2(x)\n",
    "        # Flatten layer\n",
    "        x = x.view(-1, 1600)\n",
    "        x = self.layer3_act(self.layer3(x))\n",
    "        x = self.layer4(self.layer3_dropout(x))\n",
    "        x = self.softmax(x)\n",
    "        return x\n",
    "\n",
    "\n",
    "class TrainingModelWithLoss(torch.nn.Module):\n",
    "    def __init__(self, model):\n",
    "        super().__init__()\n",
    "        self.model = model\n",
    "        self.loss = torch.nn.CrossEntropyLoss()\n",
    "\n",
    "    def forward(self, args, loss_inputs=None):\n",
    "        output = self.model(args)\n",
    "        if loss_inputs is None:\n",
    "            return output\n",
    "        else:\n",
    "            loss = self.loss(output, loss_inputs)\n",
    "            return output, loss\n",
    "\n",
    "\n",
    "def accuracy(predictions, labels):\n",
    "    _, ind = torch.max(predictions, 1)\n",
    "    # provide labels only for samples, where prediction is available (during the training, not every samples prediction is returned for efficiency reasons)\n",
    "    labels = labels[-predictions.size()[0]:]\n",
    "    accuracy = torch.sum(torch.eq(ind, labels)).item() / labels.size()[0] * 100.0\n",
    "    return accuracy\n",
    "\n",
    "\n",
    "def train(training_model, training_data):\n",
    "    nr_batches = len(training_data)\n",
    "    for epoch in range(1, 10+1):\n",
    "        print(\"Epoch {0}/{1}\".format(epoch, 10))\n",
    "        bar = tqdm(training_data, total=nr_batches)\n",
    "        for data, labels in bar:\n",
    "            preds, losses = training_model(data, labels)\n",
    "            with torch.no_grad():\n",
    "                mean_loss = torch.mean(losses).item()\n",
    "                acc = accuracy(preds, labels)\n",
    "            bar.set_description(\"Loss:{:0.4f} | Accuracy:{:0.2f}%\".format(mean_loss, acc))\n",
    "\n",
    "\n",
    "def test(inference_model, test_data):\n",
    "    nr_batches = len(test_data)\n",
    "    sum_acc = 0.0\n",
    "    with torch.no_grad():\n",
    "        for data, labels in tqdm(test_data, total=nr_batches):\n",
    "            output = inference_model(data)\n",
    "            sum_acc += accuracy(output, labels)\n",
    "    print(\"Accuracy on test set: {:0.2f}%\".format(sum_acc / len(test_data)))"
   ]
  },
  {
   "cell_type": "code",
   "execution_count": 3,
   "id": "0ea5f5a6",
   "metadata": {},
   "outputs": [
    {
     "name": "stderr",
     "output_type": "stream",
     "text": [
      "  0%|          | 0/150 [00:00<?, ?it/s]"
     ]
    },
    {
     "name": "stdout",
     "output_type": "stream",
     "text": [
      "Epoch 1/10\n"
     ]
    },
    {
     "name": "stderr",
     "output_type": "stream",
     "text": [
      "\n",
      "Graph compilation:   0%|          | 0/100 [00:00<?]\u001b[A\n",
      "Graph compilation:   3%|▎         | 3/100 [00:00<00:03]\u001b[A\n",
      "Graph compilation:   6%|▌         | 6/100 [00:07<01:13]\u001b[A\n",
      "Graph compilation:   7%|▋         | 7/100 [00:09<01:54]\u001b[A\n",
      "Graph compilation:  20%|██        | 20/100 [00:10<01:10]\u001b[A\n",
      "Graph compilation:  21%|██        | 21/100 [00:10<00:59]\u001b[A\n",
      "Graph compilation:  22%|██▏       | 22/100 [00:14<02:11]\u001b[A\n",
      "Graph compilation:  23%|██▎       | 23/100 [00:15<01:53]\u001b[A\n",
      "Graph compilation:  24%|██▍       | 24/100 [00:16<01:28]\u001b[A\n",
      "Graph compilation:  25%|██▌       | 25/100 [00:16<01:03]\u001b[A\n",
      "Graph compilation:  26%|██▌       | 26/100 [00:16<00:50]\u001b[A\n",
      "Graph compilation:  27%|██▋       | 27/100 [00:16<00:38]\u001b[A\n",
      "Graph compilation:  28%|██▊       | 28/100 [00:16<00:29]\u001b[A\n",
      "Graph compilation:  29%|██▉       | 29/100 [00:17<00:31]\u001b[A\n",
      "Graph compilation:  30%|███       | 30/100 [00:18<00:39]\u001b[A\n",
      "Graph compilation:  31%|███       | 31/100 [00:18<00:30]\u001b[A\n",
      "Graph compilation:  33%|███▎      | 33/100 [00:18<00:22]\u001b[A\n",
      "Graph compilation:  34%|███▍      | 34/100 [00:19<00:25]\u001b[A\n",
      "Graph compilation:  42%|████▏     | 42/100 [00:19<00:16]\u001b[A\n",
      "Graph compilation:  45%|████▌     | 45/100 [00:19<00:11]\u001b[A\n",
      "Graph compilation:  50%|█████     | 50/100 [00:19<00:08]\u001b[A\n",
      "Graph compilation:  52%|█████▏    | 52/100 [00:20<00:07]\u001b[A\n",
      "Graph compilation:  55%|█████▌    | 55/100 [00:20<00:06]\u001b[A\n",
      "Graph compilation:  65%|██████▌   | 65/100 [00:21<00:05]\u001b[A\n",
      "Graph compilation:  68%|██████▊   | 68/100 [00:22<00:03]\u001b[A\n",
      "Graph compilation:  73%|███████▎  | 73/100 [00:22<00:02]\u001b[A\n",
      "Graph compilation:  76%|███████▌  | 76/100 [00:22<00:01]\u001b[A\n",
      "Graph compilation:  83%|████████▎ | 83/100 [00:22<00:01]\u001b[A\n",
      "Graph compilation:  86%|████████▌ | 86/100 [00:23<00:01]\u001b[A\n",
      "Graph compilation:  89%|████████▉ | 89/100 [00:26<00:04]\u001b[A\n",
      "Graph compilation:  91%|█████████ | 91/100 [00:27<00:03]\u001b[A\n",
      "Graph compilation:  93%|█████████▎| 93/100 [00:28<00:02]\u001b[A\n",
      "Graph compilation: 100%|██████████| 100/100 [00:31<00:00][A\n",
      "Loss:1.4612 | Accuracy:100.00%: 100%|██████████| 150/150 [00:45<00:00,  3.31it/s]\n",
      "Loss:1.4612 | Accuracy:100.00%:   1%|▏         | 2/150 [00:00<00:10, 14.24it/s]"
     ]
    },
    {
     "name": "stdout",
     "output_type": "stream",
     "text": [
      "Epoch 2/10\n"
     ]
    },
    {
     "name": "stderr",
     "output_type": "stream",
     "text": [
      "Loss:1.4612 | Accuracy:100.00%: 100%|██████████| 150/150 [00:09<00:00, 15.54it/s]\n",
      "Loss:1.4612 | Accuracy:100.00%:   1%|▏         | 2/150 [00:00<00:09, 15.26it/s]"
     ]
    },
    {
     "name": "stdout",
     "output_type": "stream",
     "text": [
      "Epoch 3/10\n"
     ]
    },
    {
     "name": "stderr",
     "output_type": "stream",
     "text": [
      "Loss:1.5864 | Accuracy:87.50%: 100%|██████████| 150/150 [00:09<00:00, 15.59it/s] \n",
      "Loss:1.4612 | Accuracy:100.00%:   1%|▏         | 2/150 [00:00<00:10, 14.48it/s]"
     ]
    },
    {
     "name": "stdout",
     "output_type": "stream",
     "text": [
      "Epoch 4/10\n"
     ]
    },
    {
     "name": "stderr",
     "output_type": "stream",
     "text": [
      "Loss:1.4612 | Accuracy:100.00%: 100%|██████████| 150/150 [00:09<00:00, 15.44it/s]\n",
      "Loss:1.4612 | Accuracy:100.00%:   1%|▏         | 2/150 [00:00<00:10, 13.69it/s]"
     ]
    },
    {
     "name": "stdout",
     "output_type": "stream",
     "text": [
      "Epoch 5/10\n"
     ]
    },
    {
     "name": "stderr",
     "output_type": "stream",
     "text": [
      "Loss:1.4612 | Accuracy:100.00%: 100%|██████████| 150/150 [00:09<00:00, 15.43it/s]\n",
      "Loss:1.5555 | Accuracy:87.50%:   1%|▏         | 2/150 [00:00<00:09, 15.16it/s] "
     ]
    },
    {
     "name": "stdout",
     "output_type": "stream",
     "text": [
      "Epoch 6/10\n"
     ]
    },
    {
     "name": "stderr",
     "output_type": "stream",
     "text": [
      "Loss:1.4612 | Accuracy:100.00%: 100%|██████████| 150/150 [00:09<00:00, 15.45it/s]\n",
      "Loss:1.4612 | Accuracy:100.00%:   1%|▏         | 2/150 [00:00<00:08, 16.82it/s]"
     ]
    },
    {
     "name": "stdout",
     "output_type": "stream",
     "text": [
      "Epoch 7/10\n"
     ]
    },
    {
     "name": "stderr",
     "output_type": "stream",
     "text": [
      "Loss:1.4612 | Accuracy:100.00%: 100%|██████████| 150/150 [00:09<00:00, 15.62it/s]\n",
      "Loss:1.4612 | Accuracy:100.00%:   1%|▏         | 2/150 [00:00<00:09, 16.30it/s]"
     ]
    },
    {
     "name": "stdout",
     "output_type": "stream",
     "text": [
      "Epoch 8/10\n"
     ]
    },
    {
     "name": "stderr",
     "output_type": "stream",
     "text": [
      "Loss:1.4612 | Accuracy:100.00%: 100%|██████████| 150/150 [00:09<00:00, 15.32it/s]\n",
      "Loss:1.4615 | Accuracy:100.00%:   1%|▏         | 2/150 [00:00<00:09, 15.07it/s]"
     ]
    },
    {
     "name": "stdout",
     "output_type": "stream",
     "text": [
      "Epoch 9/10\n"
     ]
    },
    {
     "name": "stderr",
     "output_type": "stream",
     "text": [
      "Loss:1.4612 | Accuracy:100.00%: 100%|██████████| 150/150 [00:09<00:00, 15.15it/s]\n",
      "Loss:1.4612 | Accuracy:100.00%:   1%|▏         | 2/150 [00:00<00:10, 13.55it/s]"
     ]
    },
    {
     "name": "stdout",
     "output_type": "stream",
     "text": [
      "Epoch 10/10\n"
     ]
    },
    {
     "name": "stderr",
     "output_type": "stream",
     "text": [
      "Loss:1.4612 | Accuracy:100.00%: 100%|██████████| 150/150 [00:09<00:00, 15.53it/s]\n",
      "  0%|          | 0/125 [00:00<?, ?it/s]\n",
      "Graph compilation:   0%|          | 0/100 [00:00<?]\u001b[A\n",
      "Graph compilation:   4%|▍         | 4/100 [00:00<00:04]\u001b[A\n",
      "Graph compilation:   6%|▌         | 6/100 [00:05<01:23]\u001b[A\n",
      "Graph compilation:   7%|▋         | 7/100 [00:06<01:25]\u001b[A\n",
      "Graph compilation:  22%|██▏       | 22/100 [00:07<00:50]\u001b[A\n",
      "Graph compilation:  27%|██▋       | 27/100 [00:09<00:44]\u001b[A\n",
      "Graph compilation:  31%|███       | 31/100 [00:10<00:33]\u001b[A\n",
      "Graph compilation:  34%|███▍      | 34/100 [00:10<00:23]\u001b[A\n",
      "Graph compilation:  42%|████▏     | 42/100 [00:11<00:16]\u001b[A\n",
      "Graph compilation:  45%|████▌     | 45/100 [00:11<00:11]\u001b[A\n",
      "Graph compilation:  50%|█████     | 50/100 [00:11<00:08]\u001b[A\n",
      "Graph compilation:  52%|█████▏    | 52/100 [00:12<00:08]\u001b[A\n",
      "Graph compilation:  55%|█████▌    | 55/100 [00:13<00:11]\u001b[A\n",
      "Graph compilation:  63%|██████▎   | 63/100 [00:13<00:06]\u001b[A\n",
      "Graph compilation:  67%|██████▋   | 67/100 [00:14<00:06]\u001b[A\n",
      "Graph compilation:  73%|███████▎  | 73/100 [00:15<00:04]\u001b[A\n",
      "Graph compilation:  76%|███████▌  | 76/100 [00:15<00:03]\u001b[A\n",
      "Graph compilation:  82%|████████▏ | 82/100 [00:15<00:01]\u001b[A\n",
      "Graph compilation:  86%|████████▌ | 86/100 [00:15<00:01]\u001b[A\n",
      "Graph compilation:  89%|████████▉ | 89/100 [00:17<00:02]\u001b[A\n",
      "Graph compilation:  91%|█████████ | 91/100 [00:18<00:02]\u001b[A\n",
      "Graph compilation:  93%|█████████▎| 93/100 [00:18<00:01]\u001b[A\n",
      "Graph compilation: 100%|██████████| 100/100 [00:20<00:00][A\n",
      "100%|██████████| 125/125 [00:24<00:00,  5.18it/s]"
     ]
    },
    {
     "name": "stdout",
     "output_type": "stream",
     "text": [
      "Accuracy on test set: 97.91%\n"
     ]
    },
    {
     "name": "stderr",
     "output_type": "stream",
     "text": [
      "\n"
     ]
    }
   ],
   "source": [
    "# parser = argparse.ArgumentParser(description='MNIST training in PopTorch')\n",
    "# parser.add_argument('--batch-size', type=int, default=8, help='batch size for training (default: 8)')\n",
    "# parser.add_argument('--batches-per-step', type=int, default=50, help='device iteration (default:50)')\n",
    "# parser.add_argument('--test-batch-size', type=int, default=80, help='batch size for testing (default: 80)')\n",
    "# parser.add_argument('--epochs', type=int, default=10, help='number of epochs to train (default: 10)')\n",
    "# parser.add_argument('--lr', type=float, default=0.05, help='learning rate (default: 0.05)')\n",
    "# opts = parser.parse_args()\n",
    "\n",
    "training_data, test_data = get_mnist_data()\n",
    "model = Network()\n",
    "model_with_loss = TrainingModelWithLoss(model)\n",
    "model_opts = poptorch.Options().deviceIterations(50)\n",
    "\n",
    "\n",
    "# run training, on IPU\n",
    "model_with_loss.train()  # Switch the model to training mode\n",
    "# Models are initialised in training mode by default, so the line above will\n",
    "# have no effect. Its purpose is to show how the mode can be set explicitly.\n",
    "training_model = poptorch.trainingModel(model_with_loss, model_opts, optimizer=optim.SGD(model.parameters(), lr=0.05))\n",
    "train(training_model, training_data)\n",
    "\n",
    "# Update the weights in model by copying from the training IPU. This updates (model.parameters())\n",
    "training_model.copyWeightsToHost()\n",
    "\n",
    "# Check validation loss on IPU once trained. Because PopTorch will be compiled on first call the\n",
    "# weights in model.parameters() will be copied implicitly. Subsequent calls will need to call\n",
    "# inference_model.copyWeightsToDevice()\n",
    "model.eval()  # Switch the model to inference mode\n",
    "inference_model = poptorch.inferenceModel(model)\n",
    "test(inference_model, test_data)"
   ]
  },
  {
   "cell_type": "code",
   "execution_count": null,
   "id": "e48bd0ef",
   "metadata": {},
   "outputs": [],
   "source": []
  }
 ],
 "metadata": {
  "kernelspec": {
   "display_name": "Python 3",
   "language": "python",
   "name": "python3"
  },
  "language_info": {
   "codemirror_mode": {
    "name": "ipython",
    "version": 3
   },
   "file_extension": ".py",
   "mimetype": "text/x-python",
   "name": "python",
   "nbconvert_exporter": "python",
   "pygments_lexer": "ipython3",
   "version": "3.6.9"
  }
 },
 "nbformat": 4,
 "nbformat_minor": 5
}
